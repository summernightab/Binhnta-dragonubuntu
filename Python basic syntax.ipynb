{
 "cells": [
  {
   "cell_type": "code",
   "execution_count": 3,
   "id": "5137f20c",
   "metadata": {},
   "outputs": [],
   "source": [
    "import findspark"
   ]
  },
  {
   "cell_type": "code",
   "execution_count": 4,
   "id": "587a2489",
   "metadata": {},
   "outputs": [],
   "source": [
    "findspark.init('/home/devops/spark-3.5.0-bin-hadoop3')"
   ]
  },
  {
   "cell_type": "code",
   "execution_count": 5,
   "id": "5ccbd759",
   "metadata": {},
   "outputs": [],
   "source": [
    "import pyspark"
   ]
  },
  {
   "cell_type": "code",
   "execution_count": 19,
   "id": "e3ce054d",
   "metadata": {},
   "outputs": [
    {
     "data": {
      "text/plain": [
       "30"
      ]
     },
     "execution_count": 19,
     "metadata": {},
     "output_type": "execute_result"
    }
   ],
   "source": [
    "(2+3)*5+5"
   ]
  },
  {
   "cell_type": "code",
   "execution_count": 11,
   "id": "7130e180",
   "metadata": {},
   "outputs": [
    {
     "name": "stdout",
     "output_type": "stream",
     "text": [
      "hello\n"
     ]
    }
   ],
   "source": [
    "print ('hello')"
   ]
  },
  {
   "cell_type": "code",
   "execution_count": 13,
   "id": "5e4a719b",
   "metadata": {},
   "outputs": [
    {
     "data": {
      "text/plain": [
       "float"
      ]
     },
     "execution_count": 13,
     "metadata": {},
     "output_type": "execute_result"
    }
   ],
   "source": [
    "type(1.0)"
   ]
  },
  {
   "cell_type": "code",
   "execution_count": 20,
   "id": "e20f91b5",
   "metadata": {},
   "outputs": [],
   "source": [
    "name_of_var=2"
   ]
  },
  {
   "cell_type": "code",
   "execution_count": 21,
   "id": "38814176",
   "metadata": {},
   "outputs": [
    {
     "data": {
      "text/plain": [
       "3"
      ]
     },
     "execution_count": 21,
     "metadata": {},
     "output_type": "execute_result"
    }
   ],
   "source": [
    "x=1\n",
    "y=2\n",
    "x+y"
   ]
  },
  {
   "cell_type": "code",
   "execution_count": 22,
   "id": "3b3e7e0c",
   "metadata": {},
   "outputs": [
    {
     "data": {
      "text/plain": [
       "'double'"
      ]
     },
     "execution_count": 22,
     "metadata": {},
     "output_type": "execute_result"
    }
   ],
   "source": [
    "\"double\""
   ]
  },
  {
   "cell_type": "markdown",
   "id": "b448d3b7",
   "metadata": {},
   "source": [
    "# Example of using double quote or single quote"
   ]
  },
  {
   "cell_type": "code",
   "execution_count": 23,
   "id": "19dcb5e7",
   "metadata": {},
   "outputs": [
    {
     "data": {
      "text/plain": [
       "\"I don't like that\""
      ]
     },
     "execution_count": 23,
     "metadata": {},
     "output_type": "execute_result"
    }
   ],
   "source": [
    "\"I don't like that\""
   ]
  },
  {
   "cell_type": "code",
   "execution_count": 24,
   "id": "1f585fb5",
   "metadata": {},
   "outputs": [
    {
     "data": {
      "text/plain": [
       "'I do like that'"
      ]
     },
     "execution_count": 24,
     "metadata": {},
     "output_type": "execute_result"
    }
   ],
   "source": [
    "'I do like that'"
   ]
  },
  {
   "cell_type": "code",
   "execution_count": 25,
   "id": "7df67b51",
   "metadata": {},
   "outputs": [
    {
     "name": "stdout",
     "output_type": "stream",
     "text": [
      "I do like that\n"
     ]
    }
   ],
   "source": [
    "print('I do like that')"
   ]
  },
  {
   "cell_type": "markdown",
   "id": "2968331b",
   "metadata": {},
   "source": [
    "# Example of passing variables"
   ]
  },
  {
   "cell_type": "code",
   "execution_count": 26,
   "id": "dc4a759f",
   "metadata": {},
   "outputs": [
    {
     "data": {
      "text/plain": [
       "'My name is An Binh'"
      ]
     },
     "execution_count": 26,
     "metadata": {},
     "output_type": "execute_result"
    }
   ],
   "source": [
    "\"My name is {}\".format('An Binh')"
   ]
  },
  {
   "cell_type": "code",
   "execution_count": 27,
   "id": "f96e236b",
   "metadata": {},
   "outputs": [
    {
     "name": "stdout",
     "output_type": "stream",
     "text": [
      "My name is An Binh\n"
     ]
    }
   ],
   "source": [
    "print (\"My name is {}\".format('An Binh'))"
   ]
  },
  {
   "cell_type": "code",
   "execution_count": 30,
   "id": "c83219bd",
   "metadata": {},
   "outputs": [
    {
     "name": "stdout",
     "output_type": "stream",
     "text": [
      "My name is An Binh, my number is 10\n"
     ]
    }
   ],
   "source": [
    "print(\"My name is {}, my number is {}\".format('An Binh','10'))"
   ]
  },
  {
   "cell_type": "code",
   "execution_count": 33,
   "id": "88ebe6b3",
   "metadata": {},
   "outputs": [
    {
     "name": "stdout",
     "output_type": "stream",
     "text": [
      "My name is AB, my number is 100\n"
     ]
    }
   ],
   "source": [
    "print(\"My name is {n}, my number is {p}\".format(p='100',n='AB'))"
   ]
  },
  {
   "cell_type": "markdown",
   "id": "80fa534a",
   "metadata": {},
   "source": [
    "# Example of list"
   ]
  },
  {
   "cell_type": "code",
   "execution_count": 34,
   "id": "789bbefc",
   "metadata": {},
   "outputs": [
    {
     "data": {
      "text/plain": [
       "[1, 2, 3]"
      ]
     },
     "execution_count": 34,
     "metadata": {},
     "output_type": "execute_result"
    }
   ],
   "source": [
    "[1,2,3]"
   ]
  },
  {
   "cell_type": "code",
   "execution_count": null,
   "id": "2cbcd969",
   "metadata": {},
   "outputs": [],
   "source": [
    "['a','b','c']"
   ]
  },
  {
   "cell_type": "code",
   "execution_count": 35,
   "id": "81d4e6ab",
   "metadata": {},
   "outputs": [
    {
     "data": {
      "text/plain": [
       "[1, 'a']"
      ]
     },
     "execution_count": 35,
     "metadata": {},
     "output_type": "execute_result"
    }
   ],
   "source": [
    "[1,'a']"
   ]
  },
  {
   "cell_type": "code",
   "execution_count": 36,
   "id": "b4014a56",
   "metadata": {},
   "outputs": [],
   "source": [
    "mylist=['a','b','3']"
   ]
  },
  {
   "cell_type": "code",
   "execution_count": 37,
   "id": "db00cb4e",
   "metadata": {},
   "outputs": [
    {
     "data": {
      "text/plain": [
       "'b'"
      ]
     },
     "execution_count": 37,
     "metadata": {},
     "output_type": "execute_result"
    }
   ],
   "source": [
    "mylist[1]"
   ]
  },
  {
   "cell_type": "code",
   "execution_count": 38,
   "id": "631f5f75",
   "metadata": {},
   "outputs": [
    {
     "data": {
      "text/plain": [
       "'3'"
      ]
     },
     "execution_count": 38,
     "metadata": {},
     "output_type": "execute_result"
    }
   ],
   "source": [
    "mylist[2]"
   ]
  },
  {
   "cell_type": "markdown",
   "id": "16678160",
   "metadata": {},
   "source": [
    "Last item always has index = -1"
   ]
  },
  {
   "cell_type": "code",
   "execution_count": 39,
   "id": "cc5001f8",
   "metadata": {},
   "outputs": [
    {
     "data": {
      "text/plain": [
       "'3'"
      ]
     },
     "execution_count": 39,
     "metadata": {},
     "output_type": "execute_result"
    }
   ],
   "source": [
    "mylist[-1]"
   ]
  },
  {
   "cell_type": "code",
   "execution_count": 40,
   "id": "7ee08285",
   "metadata": {},
   "outputs": [
    {
     "data": {
      "text/plain": [
       "['New', 'b', '3']"
      ]
     },
     "execution_count": 40,
     "metadata": {},
     "output_type": "execute_result"
    }
   ],
   "source": [
    "mylist[0]='New'\n",
    "mylist"
   ]
  },
  {
   "cell_type": "code",
   "execution_count": 41,
   "id": "590950f7",
   "metadata": {},
   "outputs": [
    {
     "data": {
      "text/plain": [
       "['New', 'b', '3', 'd']"
      ]
     },
     "execution_count": 41,
     "metadata": {},
     "output_type": "execute_result"
    }
   ],
   "source": [
    "mylist.append('d')\n",
    "mylist"
   ]
  },
  {
   "cell_type": "markdown",
   "id": "99c4953d",
   "metadata": {},
   "source": [
    "Nested list"
   ]
  },
  {
   "cell_type": "code",
   "execution_count": null,
   "id": "6615c622",
   "metadata": {},
   "outputs": [],
   "source": [
    "mylist=[1,2,[100,200]]\n",
    "mylist"
   ]
  },
  {
   "cell_type": "code",
   "execution_count": 43,
   "id": "a96ed8a6",
   "metadata": {},
   "outputs": [
    {
     "data": {
      "text/plain": [
       "[100, 200]"
      ]
     },
     "execution_count": 43,
     "metadata": {},
     "output_type": "execute_result"
    }
   ],
   "source": [
    "mylist[-1]"
   ]
  },
  {
   "cell_type": "code",
   "execution_count": 44,
   "id": "99000b92",
   "metadata": {},
   "outputs": [
    {
     "data": {
      "text/plain": [
       "200"
      ]
     },
     "execution_count": 44,
     "metadata": {},
     "output_type": "execute_result"
    }
   ],
   "source": [
    "mylist[-1][1]"
   ]
  },
  {
   "cell_type": "markdown",
   "id": "d50f03b3",
   "metadata": {},
   "source": [
    "Dictionary"
   ]
  },
  {
   "cell_type": "code",
   "execution_count": 45,
   "id": "c2100cf8",
   "metadata": {},
   "outputs": [
    {
     "data": {
      "text/plain": [
       "{'key1': 'value 1', 'key2': 'value 2'}"
      ]
     },
     "execution_count": 45,
     "metadata": {},
     "output_type": "execute_result"
    }
   ],
   "source": [
    "d={'key1':'value 1', 'key2':'value 2'}\n",
    "d"
   ]
  },
  {
   "cell_type": "code",
   "execution_count": 46,
   "id": "4d9f947f",
   "metadata": {},
   "outputs": [
    {
     "data": {
      "text/plain": [
       "'value 2'"
      ]
     },
     "execution_count": 46,
     "metadata": {},
     "output_type": "execute_result"
    }
   ],
   "source": [
    "d['key2']"
   ]
  },
  {
   "cell_type": "code",
   "execution_count": 47,
   "id": "9f32a87c",
   "metadata": {},
   "outputs": [
    {
     "name": "stdout",
     "output_type": "stream",
     "text": [
      "{'key1': 'value 1', 'key2': 'value 2'}\n"
     ]
    }
   ],
   "source": [
    "print(d)"
   ]
  },
  {
   "cell_type": "code",
   "execution_count": 48,
   "id": "1a7c44d7",
   "metadata": {},
   "outputs": [
    {
     "data": {
      "text/plain": [
       "False"
      ]
     },
     "execution_count": 48,
     "metadata": {},
     "output_type": "execute_result"
    }
   ],
   "source": [
    "True\n",
    "False"
   ]
  },
  {
   "cell_type": "markdown",
   "id": "26ae4629",
   "metadata": {},
   "source": [
    "Tuple (can't change value)\n",
    "Ex: t[0]='New' se bao loi does not support item assignment"
   ]
  },
  {
   "cell_type": "code",
   "execution_count": 49,
   "id": "e5e23dd8",
   "metadata": {},
   "outputs": [
    {
     "data": {
      "text/plain": [
       "(1, 2, 3)"
      ]
     },
     "execution_count": 49,
     "metadata": {},
     "output_type": "execute_result"
    }
   ],
   "source": [
    "t=(1,2,3)\n",
    "t"
   ]
  },
  {
   "cell_type": "markdown",
   "id": "d4035ba0",
   "metadata": {},
   "source": [
    "Set (unorder unique element)"
   ]
  },
  {
   "cell_type": "code",
   "execution_count": 52,
   "id": "95bcee97",
   "metadata": {},
   "outputs": [
    {
     "data": {
      "text/plain": [
       "{1, 2, 3}"
      ]
     },
     "execution_count": 52,
     "metadata": {},
     "output_type": "execute_result"
    }
   ],
   "source": [
    "s={1,2,3,1,1,2,2,3,3,3,3,}\n",
    "s"
   ]
  },
  {
   "cell_type": "markdown",
   "id": "b7268c37",
   "metadata": {},
   "source": [
    "# Example of operator"
   ]
  },
  {
   "cell_type": "markdown",
   "id": "daf9274d",
   "metadata": {},
   "source": [
    "Check condition"
   ]
  },
  {
   "cell_type": "code",
   "execution_count": 1,
   "id": "3f914173",
   "metadata": {},
   "outputs": [
    {
     "data": {
      "text/plain": [
       "False"
      ]
     },
     "execution_count": 1,
     "metadata": {},
     "output_type": "execute_result"
    }
   ],
   "source": [
    "1>=2"
   ]
  },
  {
   "cell_type": "code",
   "execution_count": 2,
   "id": "422df31b",
   "metadata": {},
   "outputs": [
    {
     "data": {
      "text/plain": [
       "False"
      ]
     },
     "execution_count": 2,
     "metadata": {},
     "output_type": "execute_result"
    }
   ],
   "source": [
    "'a'=='A'"
   ]
  },
  {
   "cell_type": "code",
   "execution_count": 5,
   "id": "0ce03499",
   "metadata": {},
   "outputs": [
    {
     "data": {
      "text/plain": [
       "False"
      ]
     },
     "execution_count": 5,
     "metadata": {},
     "output_type": "execute_result"
    }
   ],
   "source": [
    "('a'=='a') and (1==2) and (3!=3)"
   ]
  },
  {
   "cell_type": "code",
   "execution_count": 9,
   "id": "5a68be62",
   "metadata": {},
   "outputs": [
    {
     "name": "stdout",
     "output_type": "stream",
     "text": [
      "second cond true!\n"
     ]
    }
   ],
   "source": [
    "if 1!=1:\n",
    "    print('yea!')\n",
    "elif 3==3:\n",
    "    print('second cond true!')\n",
    "else:\n",
    "        print('nope!')"
   ]
  },
  {
   "cell_type": "markdown",
   "id": "14a40787",
   "metadata": {},
   "source": [
    "Loop"
   ]
  },
  {
   "cell_type": "code",
   "execution_count": 15,
   "id": "c6902e1d",
   "metadata": {},
   "outputs": [
    {
     "name": "stdout",
     "output_type": "stream",
     "text": [
      "I love fruit 1\n",
      "I love fruit 2\n",
      "I love fruit 3\n",
      "I love fruit 4\n"
     ]
    }
   ],
   "source": [
    "seq = [1,2,3,4]\n",
    "jelly='I love fruit'\n",
    "for item in seq:\n",
    "    print(jelly, item)"
   ]
  },
  {
   "cell_type": "code",
   "execution_count": 16,
   "id": "692768a0",
   "metadata": {},
   "outputs": [
    {
     "name": "stdout",
     "output_type": "stream",
     "text": [
      "i is 1\n",
      "i is 2\n",
      "i is 3\n",
      "i is 4\n"
     ]
    }
   ],
   "source": [
    "i=1\n",
    "while i<5:\n",
    "    print ('i is {}'.format(i))\n",
    "    i=i+1\n"
   ]
  },
  {
   "cell_type": "code",
   "execution_count": 17,
   "id": "87d3fd4c",
   "metadata": {},
   "outputs": [
    {
     "data": {
      "text/plain": [
       "[0, 1, 2, 3, 4, 5, 6, 7, 8, 9]"
      ]
     },
     "execution_count": 17,
     "metadata": {},
     "output_type": "execute_result"
    }
   ],
   "source": [
    "list(range(10))"
   ]
  },
  {
   "cell_type": "code",
   "execution_count": 18,
   "id": "1ab76880",
   "metadata": {},
   "outputs": [
    {
     "data": {
      "text/plain": [
       "[2, 3, 4]"
      ]
     },
     "execution_count": 18,
     "metadata": {},
     "output_type": "execute_result"
    }
   ],
   "source": [
    "list(range(2,5))"
   ]
  },
  {
   "cell_type": "code",
   "execution_count": 19,
   "id": "179f364f",
   "metadata": {},
   "outputs": [
    {
     "name": "stdout",
     "output_type": "stream",
     "text": [
      "hi 0\n",
      "hi 1\n",
      "hi 2\n",
      "hi 3\n",
      "hi 4\n"
     ]
    }
   ],
   "source": [
    "for x in range(5):\n",
    "    print ('hi {}'.format(x))"
   ]
  },
  {
   "cell_type": "code",
   "execution_count": 20,
   "id": "f88ae564",
   "metadata": {},
   "outputs": [
    {
     "name": "stdout",
     "output_type": "stream",
     "text": [
      "[1, 4, 9]\n"
     ]
    }
   ],
   "source": [
    "#defin list x\n",
    "x=[1,2,3]\n",
    "out=[]\n",
    "for num in x:\n",
    "    out.append(num**2)\n",
    "print (out)"
   ]
  },
  {
   "cell_type": "code",
   "execution_count": 21,
   "id": "6b145ac7",
   "metadata": {},
   "outputs": [
    {
     "data": {
      "text/plain": [
       "[1, 4, 9]"
      ]
     },
     "execution_count": 21,
     "metadata": {},
     "output_type": "execute_result"
    }
   ],
   "source": [
    "#to shorten the code, the below code return the same result\n",
    "[num**2 for num in x]"
   ]
  },
  {
   "cell_type": "markdown",
   "id": "57b2382f",
   "metadata": {},
   "source": [
    "Function"
   ]
  },
  {
   "cell_type": "code",
   "execution_count": 22,
   "id": "595a433e",
   "metadata": {},
   "outputs": [
    {
     "name": "stdout",
     "output_type": "stream",
     "text": [
      "hello\n"
     ]
    }
   ],
   "source": [
    "def my_func():\n",
    "    print('hello')\n",
    "my_func()"
   ]
  },
  {
   "cell_type": "code",
   "execution_count": 23,
   "id": "a23b96a5",
   "metadata": {},
   "outputs": [
    {
     "name": "stdout",
     "output_type": "stream",
     "text": [
      "hello Happy bees\n"
     ]
    }
   ],
   "source": [
    "def my_func(name):\n",
    "    print('hello '+name)\n",
    "\n",
    "my_func('Happy bees')"
   ]
  },
  {
   "cell_type": "code",
   "execution_count": 24,
   "id": "70aab768",
   "metadata": {},
   "outputs": [],
   "source": [
    "def square(x):\n",
    "    return x**2\n",
    "\n",
    "result=square(3)"
   ]
  },
  {
   "cell_type": "code",
   "execution_count": 27,
   "id": "25727105",
   "metadata": {},
   "outputs": [
    {
     "name": "stdout",
     "output_type": "stream",
     "text": [
      "<class 'int'> 9\n"
     ]
    }
   ],
   "source": [
    "print (type(result), result)"
   ]
  },
  {
   "cell_type": "code",
   "execution_count": 28,
   "id": "61b07df7",
   "metadata": {},
   "outputs": [
    {
     "data": {
      "text/plain": [
       "<function __main__.<lambda>(x)>"
      ]
     },
     "execution_count": 28,
     "metadata": {},
     "output_type": "execute_result"
    }
   ],
   "source": [
    "#Rút gọn hàm trên: \n",
    "lambda x: x**2"
   ]
  },
  {
   "cell_type": "markdown",
   "id": "dced805d",
   "metadata": {},
   "source": [
    "String functions"
   ]
  },
  {
   "cell_type": "code",
   "execution_count": 31,
   "id": "293088ce",
   "metadata": {},
   "outputs": [
    {
     "data": {
      "text/plain": [
       "'hello my #name is'"
      ]
     },
     "execution_count": 31,
     "metadata": {},
     "output_type": "execute_result"
    }
   ],
   "source": [
    "st='Hello My #NAME is'\n",
    "st.lower()"
   ]
  },
  {
   "cell_type": "code",
   "execution_count": 32,
   "id": "455cf738",
   "metadata": {},
   "outputs": [
    {
     "data": {
      "text/plain": [
       "['Hello', 'My', '#NAME', 'is']"
      ]
     },
     "execution_count": 32,
     "metadata": {},
     "output_type": "execute_result"
    }
   ],
   "source": [
    "#Default split by space\n",
    "st.split()"
   ]
  },
  {
   "cell_type": "code",
   "execution_count": 33,
   "id": "3e677243",
   "metadata": {},
   "outputs": [
    {
     "data": {
      "text/plain": [
       "['Hello My ', 'NAME is']"
      ]
     },
     "execution_count": 33,
     "metadata": {},
     "output_type": "execute_result"
    }
   ],
   "source": [
    "st.split('#')"
   ]
  },
  {
   "cell_type": "code",
   "execution_count": 34,
   "id": "be0818bd",
   "metadata": {},
   "outputs": [
    {
     "data": {
      "text/plain": [
       "'NAME is'"
      ]
     },
     "execution_count": 34,
     "metadata": {},
     "output_type": "execute_result"
    }
   ],
   "source": [
    "st.split('#')[-1]"
   ]
  },
  {
   "cell_type": "code",
   "execution_count": 35,
   "id": "1b275fa4",
   "metadata": {},
   "outputs": [
    {
     "data": {
      "text/plain": [
       "'Hello My '"
      ]
     },
     "execution_count": 35,
     "metadata": {},
     "output_type": "execute_result"
    }
   ],
   "source": [
    "st.split('#')[-2]"
   ]
  },
  {
   "cell_type": "markdown",
   "id": "e57fdfd9",
   "metadata": {},
   "source": [
    "DICTIONARY FUNCTION"
   ]
  },
  {
   "cell_type": "code",
   "execution_count": 36,
   "id": "8e10778e",
   "metadata": {},
   "outputs": [],
   "source": [
    "d={'key 1': 'value 1', 'key 2':'value 2'}"
   ]
  },
  {
   "cell_type": "code",
   "execution_count": 37,
   "id": "953c2f38",
   "metadata": {},
   "outputs": [
    {
     "data": {
      "text/plain": [
       "dict_keys(['key 1', 'key 2'])"
      ]
     },
     "execution_count": 37,
     "metadata": {},
     "output_type": "execute_result"
    }
   ],
   "source": [
    "d.keys()"
   ]
  },
  {
   "cell_type": "code",
   "execution_count": 38,
   "id": "ab9fddaf",
   "metadata": {},
   "outputs": [
    {
     "data": {
      "text/plain": [
       "dict_items([('key 1', 'value 1'), ('key 2', 'value 2')])"
      ]
     },
     "execution_count": 38,
     "metadata": {},
     "output_type": "execute_result"
    }
   ],
   "source": [
    "d.items()"
   ]
  },
  {
   "cell_type": "code",
   "execution_count": 39,
   "id": "133105ba",
   "metadata": {},
   "outputs": [
    {
     "data": {
      "text/plain": [
       "dict"
      ]
     },
     "execution_count": 39,
     "metadata": {},
     "output_type": "execute_result"
    }
   ],
   "source": [
    "type(d)"
   ]
  },
  {
   "cell_type": "markdown",
   "id": "66aadac5",
   "metadata": {},
   "source": [
    "LIST FUNCTION"
   ]
  },
  {
   "cell_type": "code",
   "execution_count": 40,
   "id": "3c0b20e7",
   "metadata": {},
   "outputs": [
    {
     "data": {
      "text/plain": [
       "[1, 2]"
      ]
     },
     "execution_count": 40,
     "metadata": {},
     "output_type": "execute_result"
    }
   ],
   "source": [
    "mylist=[1,2,3]\n",
    "last = mylist.pop()\n",
    "mylist"
   ]
  },
  {
   "cell_type": "code",
   "execution_count": 41,
   "id": "349331eb",
   "metadata": {},
   "outputs": [
    {
     "data": {
      "text/plain": [
       "3"
      ]
     },
     "execution_count": 41,
     "metadata": {},
     "output_type": "execute_result"
    }
   ],
   "source": [
    "last"
   ]
  },
  {
   "cell_type": "code",
   "execution_count": 44,
   "id": "44f6065b",
   "metadata": {},
   "outputs": [
    {
     "data": {
      "text/plain": [
       "[2, 3]"
      ]
     },
     "execution_count": 44,
     "metadata": {},
     "output_type": "execute_result"
    }
   ],
   "source": [
    "mylist=[1,2,3]\n",
    "first = mylist.pop(0)\n",
    "mylist"
   ]
  },
  {
   "cell_type": "code",
   "execution_count": 45,
   "id": "be383a47",
   "metadata": {},
   "outputs": [
    {
     "data": {
      "text/plain": [
       "1"
      ]
     },
     "execution_count": 45,
     "metadata": {},
     "output_type": "execute_result"
    }
   ],
   "source": [
    "first"
   ]
  },
  {
   "cell_type": "code",
   "execution_count": 46,
   "id": "32862ced",
   "metadata": {},
   "outputs": [
    {
     "data": {
      "text/plain": [
       "False"
      ]
     },
     "execution_count": 46,
     "metadata": {},
     "output_type": "execute_result"
    }
   ],
   "source": [
    "1 in mylist"
   ]
  },
  {
   "cell_type": "code",
   "execution_count": 47,
   "id": "c2525dc7",
   "metadata": {},
   "outputs": [
    {
     "data": {
      "text/plain": [
       "True"
      ]
     },
     "execution_count": 47,
     "metadata": {},
     "output_type": "execute_result"
    }
   ],
   "source": [
    "2 in mylist"
   ]
  },
  {
   "cell_type": "markdown",
   "id": "10fe76d7",
   "metadata": {},
   "source": [
    "# Python Crash Course Exercises"
   ]
  },
  {
   "cell_type": "code",
   "execution_count": 48,
   "id": "4efe5bac",
   "metadata": {},
   "outputs": [
    {
     "data": {
      "text/plain": [
       "2401"
      ]
     },
     "execution_count": 48,
     "metadata": {},
     "output_type": "execute_result"
    }
   ],
   "source": [
    "7**4"
   ]
  },
  {
   "cell_type": "code",
   "execution_count": 49,
   "id": "5e0c78aa",
   "metadata": {},
   "outputs": [
    {
     "data": {
      "text/plain": [
       "['Hi', 'there', 'Sam!']"
      ]
     },
     "execution_count": 49,
     "metadata": {},
     "output_type": "execute_result"
    }
   ],
   "source": [
    "s= 'Hi there Sam!'\n",
    "s.split()"
   ]
  },
  {
   "cell_type": "markdown",
   "id": "31a4f00d",
   "metadata": {},
   "source": [
    "# Spark DataFrame Basics"
   ]
  },
  {
   "cell_type": "code",
   "execution_count": 50,
   "id": "0f13ed3a",
   "metadata": {},
   "outputs": [
    {
     "ename": "ModuleNotFoundError",
     "evalue": "No module named 'pyspark'",
     "output_type": "error",
     "traceback": [
      "\u001b[1;31m---------------------------------------------------------------------------\u001b[0m",
      "\u001b[1;31mModuleNotFoundError\u001b[0m                       Traceback (most recent call last)",
      "Cell \u001b[1;32mIn[50], line 1\u001b[0m\n\u001b[1;32m----> 1\u001b[0m \u001b[38;5;28;01mfrom\u001b[39;00m \u001b[38;5;21;01mpyspark\u001b[39;00m\u001b[38;5;21;01m.\u001b[39;00m\u001b[38;5;21;01msql\u001b[39;00m \u001b[38;5;28;01mimport\u001b[39;00m SparkSession\n",
      "\u001b[1;31mModuleNotFoundError\u001b[0m: No module named 'pyspark'"
     ]
    }
   ],
   "source": [
    "from pyspark.sql import SparkSession"
   ]
  },
  {
   "cell_type": "code",
   "execution_count": null,
   "id": "6da981a6",
   "metadata": {},
   "outputs": [],
   "source": []
  }
 ],
 "metadata": {
  "kernelspec": {
   "display_name": "Python 3 (ipykernel)",
   "language": "python",
   "name": "python3"
  },
  "language_info": {
   "codemirror_mode": {
    "name": "ipython",
    "version": 3
   },
   "file_extension": ".py",
   "mimetype": "text/x-python",
   "name": "python",
   "nbconvert_exporter": "python",
   "pygments_lexer": "ipython3",
   "version": "3.11.5"
  }
 },
 "nbformat": 4,
 "nbformat_minor": 5
}
